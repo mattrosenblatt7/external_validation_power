{
 "cells": [
  {
   "cell_type": "code",
   "execution_count": 16,
   "id": "36a9269b",
   "metadata": {},
   "outputs": [],
   "source": [
    "import numpy as np\n",
    "import pandas as pd\n",
    "import os\n",
    "import glob\n",
    "import re\n",
    "import time"
   ]
  },
  {
   "cell_type": "markdown",
   "id": "9f2bdb93",
   "metadata": {},
   "source": [
    "# Load main results"
   ]
  },
  {
   "cell_type": "code",
   "execution_count": 10,
   "id": "a0824f20",
   "metadata": {},
   "outputs": [
    {
     "data": {
      "text/plain": [
       "50900"
      ]
     },
     "execution_count": 10,
     "metadata": {},
     "output_type": "execute_result"
    }
   ],
   "source": [
    "# get list of all files\n",
    "file_list = glob.glob('/home/mjr239/project/repro/results/repro_results_across/*.npz')\n",
    "len(file_list)"
   ]
  },
  {
   "cell_type": "code",
   "execution_count": 17,
   "id": "d8acdb6d",
   "metadata": {},
   "outputs": [
    {
     "name": "stdout",
     "output_type": "stream",
     "text": [
      "Elapsed time: 0.00\n",
      "Elapsed time: 138.42\n",
      "Elapsed time: 444.13\n",
      "Elapsed time: 751.65\n",
      "Elapsed time: 1057.38\n",
      "Elapsed time: 1443.11\n"
     ]
    }
   ],
   "source": [
    "t1 = time.time()\n",
    "# loop over files\n",
    "for idx, fname in enumerate(file_list):\n",
    "    \n",
    "    # every 10000 files, save a file so that each file is not too large\n",
    "    if idx%10000==0:\n",
    "        print('Elapsed time: {:.2f}'.format(time.time()-t1))\n",
    "        if idx>0:\n",
    "\n",
    "            np.savez(os.path.join('/home/mjr239/project/repro/results/across_aggregated', 'results_' + str(idx) + '.npz'),\n",
    "                    train_dataset=train_dataset, pheno=pheno,\n",
    "                    test_dataset=test_dataset, train_seed=train_seed,\n",
    "                    num_train=num_train, test_seed=test_seed,\n",
    "                    num_test=num_test,\n",
    "                     r_internal=r_internal, q2_internal=q2_internal,\n",
    "                    r_external=r_external, q2_external=q2_external)\n",
    "            \n",
    "        # initialize empty lists\n",
    "        train_dataset = []\n",
    "        pheno = []\n",
    "        test_dataset = []\n",
    "        train_seed = []\n",
    "        num_train = []\n",
    "        test_seed = []\n",
    "        num_test = []\n",
    "        r_internal = []\n",
    "        q2_internal = []\n",
    "        r_external = []\n",
    "        q2_external = []\n",
    " \n",
    "\n",
    "    dat = np.load(fname)\n",
    "    \n",
    "    # add to lists with performance metrics (internal and external)\n",
    "    train_dataset.extend(dat['train_dataset_list'])\n",
    "    pheno.extend(dat['pheno_list'])\n",
    "    test_dataset.extend(dat['test_dataset_list'])\n",
    "    train_seed.extend(dat['train_seed_list'])\n",
    "    num_train.extend(dat['num_train_list'])\n",
    "    test_seed.extend(dat['test_seed_list'])\n",
    "    num_test.extend(dat['num_test_list'])\n",
    "    r_internal.extend(dat['r_internal_list'])\n",
    "    q2_internal.extend(dat['q2_internal_list'])\n",
    "    r_external.extend(dat['r_external_list'])\n",
    "    q2_external.extend(dat['q2_external_list'])\n",
    "    \n",
    "\n",
    "# save remaining files\n",
    "np.savez(os.path.join('/home/mjr239/project/repro/results/across_aggregated', 'results_' + str(idx) + '.npz'),\n",
    "        train_dataset=train_dataset, pheno=pheno,\n",
    "        test_dataset=test_dataset, train_seed=train_seed,\n",
    "        num_train=num_train, test_seed=test_seed,\n",
    "        num_test=num_test,\n",
    "         r_internal=r_internal, q2_internal=q2_internal,\n",
    "        r_external=r_external, q2_external=q2_external)"
   ]
  },
  {
   "cell_type": "code",
   "execution_count": 44,
   "id": "349de00e",
   "metadata": {},
   "outputs": [],
   "source": [
    "df_results = pd.DataFrame({'pheno':pheno, 'train_dataset':train_dataset,\n",
    "             'train_size':train_size, 'train_seed':train_seed,\n",
    "             'test_dataset':test_dataset, 'test_size':test_size,\n",
    "             'test_seed':test_seed, 'r':r, 'q2':q2})"
   ]
  },
  {
   "cell_type": "code",
   "execution_count": 49,
   "id": "d717a792",
   "metadata": {},
   "outputs": [],
   "source": [
    "df_results.to_csv('/home/mjr239/palmer_scratch/repro.csv', index=False)"
   ]
  }
 ],
 "metadata": {
  "kernelspec": {
   "display_name": "Python 3 (ipykernel)",
   "language": "python",
   "name": "python3"
  },
  "language_info": {
   "codemirror_mode": {
    "name": "ipython",
    "version": 3
   },
   "file_extension": ".py",
   "mimetype": "text/x-python",
   "name": "python",
   "nbconvert_exporter": "python",
   "pygments_lexer": "ipython3",
   "version": "3.11.3"
  }
 },
 "nbformat": 4,
 "nbformat_minor": 5
}
